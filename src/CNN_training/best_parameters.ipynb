{
 "cells": [
  {
   "cell_type": "code",
   "execution_count": 1,
   "metadata": {},
   "outputs": [],
   "source": [
    "import os\n",
    "import matplotlib.pyplot as plt\n",
    "import tensorflow as tf\n",
    "import numpy as np\n",
    "import pandas as pd\n",
    "import seaborn as sns\n",
    "from tensorflow import keras\n",
    "from keras import layers, regularizers, optimizers, losses\n",
    "from keras.applications.mobilenet_v2 import MobileNetV2\n",
    "from keras.applications.mobilenet_v2 import preprocess_input as mobilenet_preprocessing\n",
    "from keras.callbacks import EarlyStopping, ReduceLROnPlateau\n",
    "from sklearn.metrics import classification_report, confusion_matrix\n",
    "from keras.utils import set_random_seed, image_dataset_from_directory\n",
    "from training import prepare_dataset"
   ]
  },
  {
   "cell_type": "code",
   "execution_count": 3,
   "metadata": {},
   "outputs": [],
   "source": [
    "SEED = 42\n",
    "DATASET_PATH = \"../../../dataset/\"\n",
    "EPOCHS = 150\n",
    "BATCH_SIZE = 64\n",
    "AUTOTUNE = tf.data.AUTOTUNE\n",
    "INPUT_SHAPE = (224, 224, 3, )\n",
    "\n",
    "# `PYTHONHASHSEED` environment variable\n",
    "os.environ['PYTHONHASHSEED'] = str(SEED)\n",
    "\n",
    "# Python built-in random, numpy(+ scikit) and tensorflow seed\n",
    "set_random_seed(SEED)"
   ]
  },
  {
   "cell_type": "code",
   "execution_count": 4,
   "metadata": {},
   "outputs": [
    {
     "name": "stdout",
     "output_type": "stream",
     "text": [
      "Loading train dataset...\n",
      "Found 11220 files belonging to 2 classes.\n",
      "Train dataset loaded!\n",
      "Labels in the dataset:  ['savory', 'unsavory']\n",
      "Loading validation dataset...\n",
      "Found 600 files belonging to 2 classes.\n",
      "Validation dataset loaded!\n"
     ]
    },
    {
     "data": {
      "text/plain": [
       "(88, 5)"
      ]
     },
     "execution_count": 4,
     "metadata": {},
     "output_type": "execute_result"
    }
   ],
   "source": [
    "# Load the training dataset\n",
    "print(\"Loading train dataset...\")\n",
    "train_dataset = image_dataset_from_directory(\n",
    "    directory=os.path.join(DATASET_PATH, \"train\"),\n",
    "    label_mode=\"categorical\",\n",
    "    validation_split=None,\n",
    "    image_size=(224, 224),\n",
    "    batch_size=None,\n",
    "    seed=SEED\n",
    "    )\n",
    "print(\"Train dataset loaded!\")\n",
    "print(\"Labels in the dataset: \", train_dataset.class_names)\n",
    "\n",
    "# Load the validation dataset\n",
    "print(\"Loading validation dataset...\")\n",
    "val_dataset = image_dataset_from_directory(\n",
    "    directory=os.path.join(DATASET_PATH, \"valid\"),\n",
    "    label_mode=\"categorical\",\n",
    "    validation_split=None,\n",
    "    image_size=(224, 224),\n",
    "    batch_size=None,\n",
    "    seed=SEED\n",
    "    )\n",
    "print(\"Validation dataset loaded!\")\n",
    "\n",
    "train_ds = train_dataset.shuffle(256, seed=SEED, reshuffle_each_iteration=False).take(int(len(train_dataset)*0.25))\n",
    "val_ds = val_dataset.shuffle(128, seed=SEED, reshuffle_each_iteration=False).take(int(len(val_dataset)*0.25))\n",
    "\n",
    "train_ds = prepare_dataset(train_ds, augment=True)\n",
    "val_ds = prepare_dataset(val_ds)\n",
    "\n",
    "len(train_ds), len(val_ds)"
   ]
  },
  {
   "cell_type": "code",
   "execution_count": 5,
   "metadata": {},
   "outputs": [],
   "source": [
    "import keras_tuner as kt\n",
    "\n",
    "def build_model(hp):\n",
    "    model = keras.models.Sequential()\n",
    "    model.add(keras.Input(shape=(INPUT_SHAPE)))\n",
    "    \n",
    "    # Search first conv\n",
    "    model.add(layers.Conv2D(\n",
    "        filters=hp.Choice('conv_1_filter', values=[32, 64]),\n",
    "        kernel_size=hp.Choice('conv_1_kernel', values = [3,5]),\n",
    "        activation='relu',\n",
    "        kernel_regularizer=regularizers.l2(1e-2),\n",
    "        strides=(1, 1)\n",
    "    ))\n",
    "    model.add(layers.MaxPooling2D(pool_size=hp.Choice('pool_1_size', values = [3,5])))\n",
    "    \n",
    "    # Choose how many conv layers\n",
    "    for i in range(hp.Int(\"num_Convolutional_layers\", 1, 2)):\n",
    "        model.add(\n",
    "            layers.Conv2D(\n",
    "                filters=hp.Choice(f\"conv_{i}_filters\", values=[64, 128, 256]),\n",
    "                kernel_size=(3, 3),\n",
    "                activation=\"relu\",\n",
    "                kernel_regularizer=regularizers.l2(1e-2),\n",
    "                strides=(1, 1)\n",
    "            )\n",
    "        )\n",
    "        model.add(layers.MaxPooling2D(pool_size=(2, 2)))\n",
    "    \n",
    "    model.add(layers.GlobalAveragePooling2D())\n",
    "    model.add(layers.BatchNormalization())\n",
    "\n",
    "    # Choose how many classifier\n",
    "    for i in range(hp.Int(\"num_FullyConnected_layers\", 1, 2)):\n",
    "        model.add(\n",
    "            layers.Dense(\n",
    "                # Tune number of units separately.\n",
    "                units=hp.Choice(f\"units_{i}\", values=[64, 128, 256]),\n",
    "                activation=\"relu\",\n",
    "                kernel_regularizer=regularizers.l2(1e-2)\n",
    "            )\n",
    "        )\n",
    "        if hp.Boolean(\"dropout\"): model.add(layers.Dropout(rate=0.25))\n",
    "    \n",
    "    model.add(layers.Dense(2, activation=\"softmax\"))\n",
    "\n",
    "    # Choose the optimizer\n",
    "    hp_optimizer = hp.Choice('optimizer', values=['adam', 'rmsprop', 'adamax'], default = 'adamax')\n",
    "    optimizer = tf.keras.optimizers.get(hp_optimizer)\n",
    "    # Choose the learning rate\n",
    "    optimizer.learning_rate = hp.Choice('learning_rate', values=[1e-3, 1e-2], default = 1e-3)\n",
    "                                        \n",
    "    model.compile(optimizer=optimizer, \n",
    "                    loss=\"categorical_crossentropy\", \n",
    "                    metrics = [\"accuracy\"])\n",
    "\n",
    "    return model"
   ]
  },
  {
   "cell_type": "code",
   "execution_count": 6,
   "metadata": {},
   "outputs": [],
   "source": [
    "os.makedirs(\"./keras_tuner/\", exist_ok=True)\n",
    "tuner = kt.BayesianOptimization(build_model,\n",
    "                                objective=kt.Objective('val_loss', direction=\"min\"),\n",
    "                                directory='./keras_tuner',\n",
    "                                max_trials = 20, overwrite=False,\n",
    "                                project_name='tuned_model')"
   ]
  },
  {
   "cell_type": "code",
   "execution_count": 7,
   "metadata": {},
   "outputs": [
    {
     "name": "stdout",
     "output_type": "stream",
     "text": [
      "Search space summary\n",
      "Default search space size: 10\n",
      "conv_1_filter (Choice)\n",
      "{'default': 32, 'conditions': [], 'values': [32, 64], 'ordered': True}\n",
      "conv_1_kernel (Choice)\n",
      "{'default': 3, 'conditions': [], 'values': [3, 5], 'ordered': True}\n",
      "pool_1_size (Choice)\n",
      "{'default': 3, 'conditions': [], 'values': [3, 5], 'ordered': True}\n",
      "num_Convolutional_layers (Int)\n",
      "{'default': None, 'conditions': [], 'min_value': 1, 'max_value': 2, 'step': 1, 'sampling': None}\n",
      "conv_0_filters (Choice)\n",
      "{'default': 64, 'conditions': [], 'values': [64, 128, 256], 'ordered': True}\n",
      "num_FullyConnected_layers (Int)\n",
      "{'default': None, 'conditions': [], 'min_value': 1, 'max_value': 2, 'step': 1, 'sampling': None}\n",
      "units_0 (Choice)\n",
      "{'default': 64, 'conditions': [], 'values': [64, 128, 256], 'ordered': True}\n",
      "dropout (Boolean)\n",
      "{'default': False, 'conditions': []}\n",
      "optimizer (Choice)\n",
      "{'default': 'adamax', 'conditions': [], 'values': ['adam', 'rmsprop', 'adamax'], 'ordered': False}\n",
      "learning_rate (Choice)\n",
      "{'default': 0.001, 'conditions': [], 'values': [0.001, 0.01], 'ordered': True}\n"
     ]
    }
   ],
   "source": [
    "# The combination of all parameters\n",
    "tuner.search_space_summary()"
   ]
  },
  {
   "cell_type": "code",
   "execution_count": 8,
   "metadata": {},
   "outputs": [
    {
     "name": "stdout",
     "output_type": "stream",
     "text": [
      "Trial 20 Complete [00h 00m 40s]\n",
      "val_loss: 0.6577940583229065\n",
      "\n",
      "Best val_loss So Far: 0.5978061556816101\n",
      "Total elapsed time: 00h 15m 29s\n",
      "INFO:tensorflow:Oracle triggered exit\n"
     ]
    }
   ],
   "source": [
    "early_stopping = EarlyStopping(monitor=\"val_loss\", patience=12, min_delta=0.0001, restore_best_weights=True, verbose=1)\n",
    "lr_scheduler = ReduceLROnPlateau(monitor=\"val_loss\", factor=0.1, patience=5, verbose=1)\n",
    "callbacks = [early_stopping, lr_scheduler]\n",
    "# Search best hyperparameter\n",
    "tuner.search(train_ds, epochs=150, validation_data=val_ds, shuffle=True, callbacks=callbacks)"
   ]
  },
  {
   "cell_type": "code",
   "execution_count": 9,
   "metadata": {},
   "outputs": [
    {
     "name": "stdout",
     "output_type": "stream",
     "text": [
      "Model: \"sequential\"\n",
      "_________________________________________________________________\n",
      " Layer (type)                Output Shape              Param #   \n",
      "=================================================================\n",
      " conv2d (Conv2D)             (None, 222, 222, 32)      896       \n",
      "                                                                 \n",
      " max_pooling2d (MaxPooling2D  (None, 44, 44, 32)       0         \n",
      " )                                                               \n",
      "                                                                 \n",
      " conv2d_1 (Conv2D)           (None, 42, 42, 256)       73984     \n",
      "                                                                 \n",
      " max_pooling2d_1 (MaxPooling  (None, 21, 21, 256)      0         \n",
      " 2D)                                                             \n",
      "                                                                 \n",
      " conv2d_2 (Conv2D)           (None, 19, 19, 64)        147520    \n",
      "                                                                 \n",
      " max_pooling2d_2 (MaxPooling  (None, 9, 9, 64)         0         \n",
      " 2D)                                                             \n",
      "                                                                 \n",
      " global_average_pooling2d (G  (None, 64)               0         \n",
      " lobalAveragePooling2D)                                          \n",
      "                                                                 \n",
      " batch_normalization (BatchN  (None, 64)               256       \n",
      " ormalization)                                                   \n",
      "                                                                 \n",
      " dense (Dense)               (None, 64)                4160      \n",
      "                                                                 \n",
      " dropout (Dropout)           (None, 64)                0         \n",
      "                                                                 \n",
      " dense_1 (Dense)             (None, 64)                4160      \n",
      "                                                                 \n",
      " dropout_1 (Dropout)         (None, 64)                0         \n",
      "                                                                 \n",
      " dense_2 (Dense)             (None, 2)                 130       \n",
      "                                                                 \n",
      "=================================================================\n",
      "Total params: 231,106\n",
      "Trainable params: 230,978\n",
      "Non-trainable params: 128\n",
      "_________________________________________________________________\n"
     ]
    }
   ],
   "source": [
    "# Get the top model\n",
    "models = tuner.get_best_models(num_models=1)\n",
    "best_model = models[0]\n",
    "# Build the model.\n",
    "# best_model.build(input_shape=INPUT_SHAPE)\n",
    "best_model.summary()"
   ]
  },
  {
   "cell_type": "code",
   "execution_count": 10,
   "metadata": {},
   "outputs": [
    {
     "name": "stdout",
     "output_type": "stream",
     "text": [
      "Results summary\n",
      "Results in ./keras_tuner\\tuned_model\n",
      "Showing 10 best trials\n",
      "<keras_tuner.engine.objective.Objective object at 0x0000020116CF8EE0>\n",
      "Trial summary\n",
      "Hyperparameters:\n",
      "conv_1_filter: 32\n",
      "conv_1_kernel: 3\n",
      "pool_1_size: 5\n",
      "num_Convolutional_layers: 2\n",
      "conv_0_filters: 256\n",
      "num_FullyConnected_layers: 2\n",
      "units_0: 64\n",
      "dropout: True\n",
      "optimizer: adam\n",
      "learning_rate: 0.001\n",
      "conv_1_filters: 64\n",
      "units_1: 64\n",
      "Score: 0.5978061556816101\n",
      "Trial summary\n",
      "Hyperparameters:\n",
      "conv_1_filter: 32\n",
      "conv_1_kernel: 3\n",
      "pool_1_size: 5\n",
      "num_Convolutional_layers: 2\n",
      "conv_0_filters: 64\n",
      "num_FullyConnected_layers: 2\n",
      "units_0: 64\n",
      "dropout: True\n",
      "optimizer: adam\n",
      "learning_rate: 0.001\n",
      "conv_1_filters: 64\n",
      "units_1: 64\n",
      "Score: 0.603837788105011\n",
      "Trial summary\n",
      "Hyperparameters:\n",
      "conv_1_filter: 32\n",
      "conv_1_kernel: 3\n",
      "pool_1_size: 5\n",
      "num_Convolutional_layers: 2\n",
      "conv_0_filters: 128\n",
      "num_FullyConnected_layers: 2\n",
      "units_0: 256\n",
      "dropout: True\n",
      "optimizer: adam\n",
      "learning_rate: 0.001\n",
      "conv_1_filters: 64\n",
      "units_1: 64\n",
      "Score: 0.6052907705307007\n",
      "Trial summary\n",
      "Hyperparameters:\n",
      "conv_1_filter: 32\n",
      "conv_1_kernel: 3\n",
      "pool_1_size: 5\n",
      "num_Convolutional_layers: 2\n",
      "conv_0_filters: 128\n",
      "num_FullyConnected_layers: 1\n",
      "units_0: 64\n",
      "dropout: True\n",
      "optimizer: adam\n",
      "learning_rate: 0.001\n",
      "conv_1_filters: 64\n",
      "units_1: 64\n",
      "Score: 0.6059034466743469\n",
      "Trial summary\n",
      "Hyperparameters:\n",
      "conv_1_filter: 32\n",
      "conv_1_kernel: 3\n",
      "pool_1_size: 5\n",
      "num_Convolutional_layers: 2\n",
      "conv_0_filters: 256\n",
      "num_FullyConnected_layers: 2\n",
      "units_0: 64\n",
      "dropout: True\n",
      "optimizer: adam\n",
      "learning_rate: 0.001\n",
      "conv_1_filters: 64\n",
      "units_1: 64\n",
      "Score: 0.6116088032722473\n",
      "Trial summary\n",
      "Hyperparameters:\n",
      "conv_1_filter: 32\n",
      "conv_1_kernel: 3\n",
      "pool_1_size: 5\n",
      "num_Convolutional_layers: 2\n",
      "conv_0_filters: 128\n",
      "num_FullyConnected_layers: 2\n",
      "units_0: 128\n",
      "dropout: True\n",
      "optimizer: adam\n",
      "learning_rate: 0.001\n",
      "conv_1_filters: 64\n",
      "units_1: 64\n",
      "Score: 0.6287757754325867\n",
      "Trial summary\n",
      "Hyperparameters:\n",
      "conv_1_filter: 32\n",
      "conv_1_kernel: 3\n",
      "pool_1_size: 5\n",
      "num_Convolutional_layers: 2\n",
      "conv_0_filters: 128\n",
      "num_FullyConnected_layers: 2\n",
      "units_0: 64\n",
      "dropout: True\n",
      "optimizer: adam\n",
      "learning_rate: 0.001\n",
      "conv_1_filters: 64\n",
      "units_1: 64\n",
      "Score: 0.6334527730941772\n",
      "Trial summary\n",
      "Hyperparameters:\n",
      "conv_1_filter: 32\n",
      "conv_1_kernel: 3\n",
      "pool_1_size: 5\n",
      "num_Convolutional_layers: 2\n",
      "conv_0_filters: 128\n",
      "num_FullyConnected_layers: 2\n",
      "units_0: 128\n",
      "dropout: True\n",
      "optimizer: rmsprop\n",
      "learning_rate: 0.001\n",
      "conv_1_filters: 64\n",
      "units_1: 64\n",
      "Score: 0.6354712843894958\n",
      "Trial summary\n",
      "Hyperparameters:\n",
      "conv_1_filter: 32\n",
      "conv_1_kernel: 3\n",
      "pool_1_size: 5\n",
      "num_Convolutional_layers: 2\n",
      "conv_0_filters: 256\n",
      "num_FullyConnected_layers: 2\n",
      "units_0: 256\n",
      "dropout: True\n",
      "optimizer: adam\n",
      "learning_rate: 0.001\n",
      "conv_1_filters: 64\n",
      "units_1: 64\n",
      "Score: 0.6377764940261841\n",
      "Trial summary\n",
      "Hyperparameters:\n",
      "conv_1_filter: 32\n",
      "conv_1_kernel: 3\n",
      "pool_1_size: 5\n",
      "num_Convolutional_layers: 2\n",
      "conv_0_filters: 128\n",
      "num_FullyConnected_layers: 2\n",
      "units_0: 64\n",
      "dropout: True\n",
      "optimizer: adam\n",
      "learning_rate: 0.001\n",
      "conv_1_filters: 64\n",
      "units_1: 256\n",
      "Score: 0.6413242816925049\n"
     ]
    }
   ],
   "source": [
    "tuner.results_summary()"
   ]
  },
  {
   "cell_type": "code",
   "execution_count": 11,
   "metadata": {},
   "outputs": [
    {
     "name": "stderr",
     "output_type": "stream",
     "text": [
      "WARNING:absl:Found untraced functions such as _jit_compiled_convolution_op, _jit_compiled_convolution_op, _jit_compiled_convolution_op while saving (showing 3 of 3). These functions will not be directly callable after loading.\n"
     ]
    },
    {
     "name": "stdout",
     "output_type": "stream",
     "text": [
      "INFO:tensorflow:Assets written to: ./keras_tuner/best_hyperparameter_tuned_model\\assets\n"
     ]
    },
    {
     "name": "stderr",
     "output_type": "stream",
     "text": [
      "INFO:tensorflow:Assets written to: ./keras_tuner/best_hyperparameter_tuned_model\\assets\n"
     ]
    }
   ],
   "source": [
    "best_model.save(\"./keras_tuner/\" + 'best_hyperparameter_tuned_model')"
   ]
  },
  {
   "cell_type": "code",
   "execution_count": 12,
   "metadata": {},
   "outputs": [],
   "source": [
    "a = tuner.get_best_hyperparameters(num_trials=1)[0]\n",
    "model = tuner.hypermodel.build(a)"
   ]
  },
  {
   "cell_type": "code",
   "execution_count": 13,
   "metadata": {},
   "outputs": [],
   "source": [
    "early_stopping = EarlyStopping(monitor=\"val_loss\", patience=12, min_delta=0.0001, restore_best_weights=True, verbose=1)\n",
    "lr_scheduler = ReduceLROnPlateau(monitor=\"val_loss\", factor=0.1, patience=5, verbose=1)\n",
    "callbacks = [early_stopping, lr_scheduler]"
   ]
  },
  {
   "cell_type": "code",
   "execution_count": 14,
   "metadata": {},
   "outputs": [],
   "source": [
    "train_ds = prepare_dataset(train_dataset, augment=True)\n",
    "val_ds = prepare_dataset(val_dataset)"
   ]
  },
  {
   "cell_type": "code",
   "execution_count": 19,
   "metadata": {},
   "outputs": [
    {
     "name": "stdout",
     "output_type": "stream",
     "text": [
      "Epoch 1/50\n",
      "351/351 [==============================] - 5s 14ms/step - loss: 0.5468 - accuracy: 0.7411 - val_loss: 0.6609 - val_accuracy: 0.6533 - lr: 1.0000e-06\n",
      "Epoch 2/50\n",
      "351/351 [==============================] - 5s 14ms/step - loss: 0.5463 - accuracy: 0.7433 - val_loss: 0.6611 - val_accuracy: 0.6533 - lr: 1.0000e-06\n",
      "Epoch 3/50\n",
      "351/351 [==============================] - 5s 14ms/step - loss: 0.5463 - accuracy: 0.7424 - val_loss: 0.6611 - val_accuracy: 0.6517 - lr: 1.0000e-06\n",
      "Epoch 4/50\n",
      "351/351 [==============================] - 5s 14ms/step - loss: 0.5473 - accuracy: 0.7457 - val_loss: 0.6612 - val_accuracy: 0.6533 - lr: 1.0000e-06\n",
      "Epoch 5/50\n",
      "351/351 [==============================] - 5s 14ms/step - loss: 0.5471 - accuracy: 0.7447 - val_loss: 0.6614 - val_accuracy: 0.6550 - lr: 1.0000e-06\n",
      "Epoch 6/50\n",
      "349/351 [============================>.] - ETA: 0s - loss: 0.5460 - accuracy: 0.7469\n",
      "Epoch 6: ReduceLROnPlateau reducing learning rate to 1.0000001111620805e-07.\n",
      "351/351 [==============================] - 5s 14ms/step - loss: 0.5459 - accuracy: 0.7471 - val_loss: 0.6617 - val_accuracy: 0.6533 - lr: 1.0000e-06\n",
      "Epoch 7/50\n",
      "351/351 [==============================] - 5s 14ms/step - loss: 0.5460 - accuracy: 0.7471 - val_loss: 0.6618 - val_accuracy: 0.6550 - lr: 1.0000e-07\n",
      "Epoch 8/50\n",
      "351/351 [==============================] - 5s 14ms/step - loss: 0.5443 - accuracy: 0.7469 - val_loss: 0.6618 - val_accuracy: 0.6550 - lr: 1.0000e-07\n",
      "Epoch 9/50\n",
      "351/351 [==============================] - 5s 14ms/step - loss: 0.5445 - accuracy: 0.7443 - val_loss: 0.6618 - val_accuracy: 0.6550 - lr: 1.0000e-07\n",
      "Epoch 10/50\n",
      "351/351 [==============================] - 5s 14ms/step - loss: 0.5467 - accuracy: 0.7437 - val_loss: 0.6619 - val_accuracy: 0.6550 - lr: 1.0000e-07\n",
      "Epoch 11/50\n",
      "349/351 [============================>.] - ETA: 0s - loss: 0.5462 - accuracy: 0.7457\n",
      "Epoch 11: ReduceLROnPlateau reducing learning rate to 1.000000082740371e-08.\n",
      "351/351 [==============================] - 5s 14ms/step - loss: 0.5462 - accuracy: 0.7459 - val_loss: 0.6619 - val_accuracy: 0.6567 - lr: 1.0000e-07\n",
      "Epoch 12/50\n",
      "351/351 [==============================] - 5s 14ms/step - loss: 0.5459 - accuracy: 0.7433 - val_loss: 0.6619 - val_accuracy: 0.6550 - lr: 1.0000e-08\n",
      "Epoch 13/50\n",
      "349/351 [============================>.] - ETA: 0s - loss: 0.5454 - accuracy: 0.7465Restoring model weights from the end of the best epoch: 1.\n",
      "351/351 [==============================] - 5s 14ms/step - loss: 0.5453 - accuracy: 0.7468 - val_loss: 0.6619 - val_accuracy: 0.6550 - lr: 1.0000e-08\n",
      "Epoch 13: early stopping\n"
     ]
    },
    {
     "data": {
      "text/plain": [
       "<keras.callbacks.History at 0x20117a9cc40>"
      ]
     },
     "execution_count": 19,
     "metadata": {},
     "output_type": "execute_result"
    }
   ],
   "source": [
    "model.fit(train_ds, epochs=50, callbacks=callbacks, validation_data=val_ds)"
   ]
  },
  {
   "cell_type": "code",
   "execution_count": 23,
   "metadata": {},
   "outputs": [
    {
     "name": "stdout",
     "output_type": "stream",
     "text": [
      "Loading test dataset...\n",
      "Found 600 files belonging to 2 classes.\n",
      "Test dataset loaded!\n"
     ]
    }
   ],
   "source": [
    "# Load the test dataset\n",
    "print(\"Loading test dataset...\")\n",
    "test_dataset = image_dataset_from_directory(\n",
    "    directory=os.path.join(DATASET_PATH, \"test\"),\n",
    "    label_mode=\"categorical\",\n",
    "    validation_split=None,\n",
    "    image_size=(224, 224),\n",
    "    batch_size=None,\n",
    "    seed=SEED\n",
    "    )\n",
    "print(\"Test dataset loaded!\")\n",
    "\n",
    "X_test, y_test = [], []\n",
    "for image, label in test_dataset:\n",
    "    image /= 255.\n",
    "    X_test.append(image.numpy())\n",
    "    y_test.append(label.numpy())\n",
    "         \n",
    "X_test = tf.convert_to_tensor(np.asarray(X_test, dtype='float32'))\n",
    "y_test = np.asarray(y_test, dtype='float32')\n",
    "    \n",
    "test_dataset = tf.data.Dataset.from_tensor_slices((X_test, y_test))\n",
    "test_dataset = test_dataset.batch(BATCH_SIZE)"
   ]
  },
  {
   "cell_type": "code",
   "execution_count": 24,
   "metadata": {},
   "outputs": [
    {
     "name": "stdout",
     "output_type": "stream",
     "text": [
      "10/10 [==============================] - 0s 26ms/step - loss: 0.5611 - accuracy: 0.7467\n",
      "Test Loss: 0.561095654964447\n",
      "Test Accuracy: 0.746666669845581\n",
      "19/19 [==============================] - 0s 7ms/step\n",
      "              precision    recall  f1-score   support\n",
      "\n",
      "           0       0.68      0.94      0.79       300\n",
      "           1       0.91      0.55      0.68       300\n",
      "\n",
      "    accuracy                           0.75       600\n",
      "   macro avg       0.79      0.75      0.74       600\n",
      "weighted avg       0.79      0.75      0.74       600\n",
      "\n",
      "[[283  17]\n",
      " [135 165]]\n"
     ]
    }
   ],
   "source": [
    "score = model.evaluate(test_dataset)\n",
    "print(f\"Test Loss: {score[0]}\")\n",
    "print(f\"Test Accuracy: {score[1]}\")\n",
    "    \n",
    "predictions = model.predict(X_test)   \n",
    "predictions = np.argmax(predictions, axis=1)\n",
    "y_test = np.argmax(y_test, axis=1)\n",
    "print(classification_report(y_test, predictions))\n",
    "print(confusion_matrix(y_test, predictions))"
   ]
  }
 ],
 "metadata": {
  "kernelspec": {
   "display_name": "Python 3.8.10 64-bit",
   "language": "python",
   "name": "python3"
  },
  "language_info": {
   "codemirror_mode": {
    "name": "ipython",
    "version": 3
   },
   "file_extension": ".py",
   "mimetype": "text/x-python",
   "name": "python",
   "nbconvert_exporter": "python",
   "pygments_lexer": "ipython3",
   "version": "3.8.10"
  },
  "orig_nbformat": 4,
  "vscode": {
   "interpreter": {
    "hash": "77d2863d73a71357c1b21020a724e0f97bba5dba955c696759ed2a19762b4d0d"
   }
  }
 },
 "nbformat": 4,
 "nbformat_minor": 2
}
