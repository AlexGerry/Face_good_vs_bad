{
 "cells": [
  {
   "cell_type": "code",
   "execution_count": 1,
   "metadata": {},
   "outputs": [],
   "source": [
    "import skimage\n",
    "import tensorflow as tf\n",
    "from tensorflow import keras\n",
    "import numpy as np\n",
    "from pathlib import Path\n",
    "import os\n",
    "import random"
   ]
  },
  {
   "cell_type": "code",
   "execution_count": 2,
   "metadata": {},
   "outputs": [],
   "source": [
    "## Set seed for reproducibility\n",
    "SEED = 42\n",
    "\n",
    "# `PYTHONHASHSEED` environment variable\n",
    "os.environ['PYTHONHASHSEED'] = str(SEED)\n",
    "\n",
    "# Python built-in random, numpy(+ scikit) and tensorflow seed\n",
    "tf.keras.utils.set_random_seed(SEED)"
   ]
  },
  {
   "cell_type": "code",
   "execution_count": 3,
   "metadata": {},
   "outputs": [],
   "source": [
    "DATASET_PATH = \"C:/Users/Alessandro/Desktop/università/visual image/dataset/\"\n",
    "target_shape = (200,200)\n",
    "train_path = DATASET_PATH + \"train\"\n",
    "x_train = list(Path(train_path).rglob(\"*.jpg\"))\n",
    "y_train = [path.parts[-2] for path in x_train]\n",
    "test_path = DATASET_PATH + \"test\"\n",
    "x_test = list(Path(test_path).rglob(\"*.jpg\"))\n",
    "y_test = [path.parts[-2] for path in x_test]"
   ]
  },
  {
   "cell_type": "code",
   "execution_count": 4,
   "metadata": {},
   "outputs": [
    {
     "name": "stdout",
     "output_type": "stream",
     "text": [
      "WARNING:tensorflow:No training configuration found in save file, so the model was *not* compiled. Compile it manually.\n"
     ]
    }
   ],
   "source": [
    "embedding = keras.models.load_model(\"./final_siamese_embedding_model/\")"
   ]
  },
  {
   "cell_type": "code",
   "execution_count": 5,
   "metadata": {},
   "outputs": [
    {
     "name": "stderr",
     "output_type": "stream",
     "text": [
      "100%|██████████| 11220/11220 [27:30<00:00,  6.80it/s]\n",
      "100%|██████████| 600/600 [01:28<00:00,  6.80it/s]\n"
     ]
    }
   ],
   "source": [
    "from skimage.io import imread\n",
    "from tqdm import tqdm\n",
    "\n",
    "embedding_train = []\n",
    "for image_path in tqdm(x_train):\n",
    "    img = imread(image_path)\n",
    "    img = skimage.transform.resize(img, target_shape)\n",
    "    img = np.dstack([img])\n",
    "    embedding_train.extend([embedding(\n",
    "        tf.expand_dims(img,\n",
    "            axis=0\n",
    "            )).numpy()[0]])\n",
    "\n",
    "embedding_test = []\n",
    "for image_path in tqdm(x_test):\n",
    "    img = imread(image_path)\n",
    "    img = skimage.transform.resize(img, target_shape)\n",
    "    img = np.dstack([img])\n",
    "    embedding_test.extend([embedding(\n",
    "        tf.expand_dims(img,\n",
    "            axis=0\n",
    "            )).numpy()[0]])"
   ]
  },
  {
   "cell_type": "code",
   "execution_count": 6,
   "metadata": {},
   "outputs": [
    {
     "name": "stdout",
     "output_type": "stream",
     "text": [
      "score:  0.8533333333333334\n",
      "              precision    recall  f1-score   support\n",
      "\n",
      "      savory       0.83      0.88      0.86       300\n",
      "    unsavory       0.88      0.82      0.85       300\n",
      "\n",
      "    accuracy                           0.85       600\n",
      "   macro avg       0.85      0.85      0.85       600\n",
      "weighted avg       0.85      0.85      0.85       600\n",
      "\n",
      "[[265  35]\n",
      " [ 53 247]]\n"
     ]
    }
   ],
   "source": [
    "from sklearn import svm\n",
    "from sklearn.ensemble import RandomForestClassifier\n",
    "from sklearn.neighbors import KNeighborsClassifier\n",
    "from sklearn.metrics import classification_report\n",
    "from sklearn.metrics import confusion_matrix\n",
    "\n",
    "classifier = RandomForestClassifier(random_state=42)\n",
    "classifier.fit(embedding_train, y_train)\n",
    "print(\"score: \", classifier.score(embedding_test, y_test))\n",
    "predicted = classifier.predict(embedding_test)\n",
    "a = classification_report(y_test, predicted)\n",
    "print(a)\n",
    "print(confusion_matrix(y_test, predicted))"
   ]
  },
  {
   "cell_type": "code",
   "execution_count": 10,
   "metadata": {},
   "outputs": [
    {
     "name": "stdout",
     "output_type": "stream",
     "text": [
      "score:  0.895\n",
      "              precision    recall  f1-score   support\n",
      "\n",
      "      savory       0.88      0.91      0.90       300\n",
      "    unsavory       0.91      0.88      0.89       300\n",
      "\n",
      "    accuracy                           0.90       600\n",
      "   macro avg       0.90      0.90      0.89       600\n",
      "weighted avg       0.90      0.90      0.89       600\n",
      "\n",
      "[[274  26]\n",
      " [ 37 263]]\n"
     ]
    }
   ],
   "source": [
    "classifier_svm = svm.NuSVC(nu=0.3, random_state=42)\n",
    "classifier_svm.fit(embedding_train, y_train)\n",
    "print(\"score: \", classifier_svm.score(embedding_test, y_test))\n",
    "predicted = classifier_svm.predict(embedding_test)\n",
    "a = classification_report(y_test, predicted)\n",
    "print(a)\n",
    "print(confusion_matrix(y_test, predicted))"
   ]
  },
  {
   "cell_type": "code",
   "execution_count": 8,
   "metadata": {},
   "outputs": [
    {
     "name": "stdout",
     "output_type": "stream",
     "text": [
      "score:  0.7816666666666666\n",
      "              precision    recall  f1-score   support\n",
      "\n",
      "      savory       0.79      0.77      0.78       300\n",
      "    unsavory       0.78      0.79      0.78       300\n",
      "\n",
      "    accuracy                           0.78       600\n",
      "   macro avg       0.78      0.78      0.78       600\n",
      "weighted avg       0.78      0.78      0.78       600\n",
      "\n",
      "[[232  68]\n",
      " [ 63 237]]\n"
     ]
    },
    {
     "name": "stderr",
     "output_type": "stream",
     "text": [
      "c:\\Users\\Alessandro\\AppData\\Local\\Programs\\Python\\Python38\\lib\\site-packages\\sklearn\\neighbors\\_classification.py:228: FutureWarning: Unlike other reduction functions (e.g. `skew`, `kurtosis`), the default behavior of `mode` typically preserves the axis it acts along. In SciPy 1.11.0, this behavior will change: the default value of `keepdims` will become False, the `axis` over which the statistic is taken will be eliminated, and the value None will no longer be accepted. Set `keepdims` to True or False to avoid this warning.\n",
      "  mode, _ = stats.mode(_y[neigh_ind, k], axis=1)\n",
      "c:\\Users\\Alessandro\\AppData\\Local\\Programs\\Python\\Python38\\lib\\site-packages\\sklearn\\neighbors\\_classification.py:228: FutureWarning: Unlike other reduction functions (e.g. `skew`, `kurtosis`), the default behavior of `mode` typically preserves the axis it acts along. In SciPy 1.11.0, this behavior will change: the default value of `keepdims` will become False, the `axis` over which the statistic is taken will be eliminated, and the value None will no longer be accepted. Set `keepdims` to True or False to avoid this warning.\n",
      "  mode, _ = stats.mode(_y[neigh_ind, k], axis=1)\n"
     ]
    }
   ],
   "source": [
    "classifier = KNeighborsClassifier(n_neighbors=3)\n",
    "classifier.fit(embedding_train, y_train)\n",
    "print(\"score: \", classifier.score(embedding_test, y_test))\n",
    "predicted = classifier.predict(embedding_test)\n",
    "a = classification_report(y_test, predicted)\n",
    "print(a)\n",
    "print(confusion_matrix(y_test, predicted))"
   ]
  },
  {
   "cell_type": "code",
   "execution_count": 19,
   "metadata": {},
   "outputs": [],
   "source": [
    "import pickle\n",
    "with open(\"./Classifier/svm_final_nu03.sav\", \"wb\") as handle:\n",
    "    pickle.dump(classifier_svm, handle, pickle.HIGHEST_PROTOCOL)"
   ]
  },
  {
   "cell_type": "code",
   "execution_count": 20,
   "metadata": {},
   "outputs": [],
   "source": [
    "with open(\"./Features/feature_final.pkl\", \"wb\") as handle:\n",
    "    pickle.dump(embedding_train, handle, pickle.HIGHEST_PROTOCOL)\n",
    "\n",
    "with open(\"./Features/path_final.pkl\", \"wb\") as handle:\n",
    "    pickle.dump(x_train, handle, pickle.HIGHEST_PROTOCOL)"
   ]
  }
 ],
 "metadata": {
  "kernelspec": {
   "display_name": "Python 3.8.10 64-bit",
   "language": "python",
   "name": "python3"
  },
  "language_info": {
   "codemirror_mode": {
    "name": "ipython",
    "version": 3
   },
   "file_extension": ".py",
   "mimetype": "text/x-python",
   "name": "python",
   "nbconvert_exporter": "python",
   "pygments_lexer": "ipython3",
   "version": "3.8.10"
  },
  "orig_nbformat": 4,
  "vscode": {
   "interpreter": {
    "hash": "77d2863d73a71357c1b21020a724e0f97bba5dba955c696759ed2a19762b4d0d"
   }
  }
 },
 "nbformat": 4,
 "nbformat_minor": 2
}
