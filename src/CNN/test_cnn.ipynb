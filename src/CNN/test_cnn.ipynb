{
 "cells": [
  {
   "cell_type": "code",
   "execution_count": 1,
   "metadata": {},
   "outputs": [],
   "source": [
    "from CNN import CNN\n",
    "from keras.callbacks import EarlyStopping, ReduceLROnPlateau\n",
    "from keras.utils import set_random_seed, image_dataset_from_directory\n",
    "import os\n",
    "import tensorflow as tf\n",
    "from utils import prepare_dataset, plot_confusionMatrix, plot_history\n",
    "import numpy as np"
   ]
  },
  {
   "cell_type": "code",
   "execution_count": 2,
   "metadata": {},
   "outputs": [],
   "source": [
    "SEED = 42\n",
    "DATASET_PATH = \"../../../dataset/\"\n",
    "EPOCHS = 150\n",
    "BATCH_SIZE = 32\n",
    "AUTOTUNE = tf.data.AUTOTUNE\n",
    "INPUT_SHAPE = (224, 224, 3, )"
   ]
  },
  {
   "cell_type": "code",
   "execution_count": 3,
   "metadata": {},
   "outputs": [
    {
     "name": "stdout",
     "output_type": "stream",
     "text": [
      "Model: \"sequential_1\"\n",
      "_________________________________________________________________\n",
      " Layer (type)                Output Shape              Param #   \n",
      "=================================================================\n",
      " conv2d_14 (Conv2D)          (None, 222, 222, 32)      896       \n",
      "                                                                 \n",
      " max_pooling2d_8 (MaxPooling  (None, 44, 44, 32)       0         \n",
      " 2D)                                                             \n",
      "                                                                 \n",
      " conv2d_15 (Conv2D)          (None, 42, 42, 256)       73984     \n",
      "                                                                 \n",
      " max_pooling2d_9 (MaxPooling  (None, 21, 21, 256)      0         \n",
      " 2D)                                                             \n",
      "                                                                 \n",
      " conv2d_16 (Conv2D)          (None, 19, 19, 64)        147520    \n",
      "                                                                 \n",
      " max_pooling2d_10 (MaxPoolin  (None, 9, 9, 64)         0         \n",
      " g2D)                                                            \n",
      "                                                                 \n",
      " global_average_pooling2d_1   (None, 64)               0         \n",
      " (GlobalAveragePooling2D)                                        \n",
      "                                                                 \n",
      " batch_normalization_1 (Batc  (None, 64)               256       \n",
      " hNormalization)                                                 \n",
      "                                                                 \n",
      " dense_9 (Dense)             (None, 64)                4160      \n",
      "                                                                 \n",
      " dropout (Dropout)           (None, 64)                0         \n",
      "                                                                 \n",
      " dense_10 (Dense)            (None, 64)                4160      \n",
      "                                                                 \n",
      " dropout_1 (Dropout)         (None, 64)                0         \n",
      "                                                                 \n",
      " dense_11 (Dense)            (None, 2)                 130       \n",
      "                                                                 \n",
      "=================================================================\n",
      "Total params: 231,106\n",
      "Trainable params: 230,978\n",
      "Non-trainable params: 128\n",
      "_________________________________________________________________\n"
     ]
    }
   ],
   "source": [
    "model_path = \"./trained_cnn/\"\n",
    "cnn = CNN(model_path)\n",
    "cnn.cnn.summary()"
   ]
  },
  {
   "cell_type": "markdown",
   "metadata": {},
   "source": [
    "## Train Val Test best model"
   ]
  },
  {
   "cell_type": "code",
   "execution_count": 3,
   "metadata": {},
   "outputs": [
    {
     "name": "stdout",
     "output_type": "stream",
     "text": [
      "Loading train dataset...\n",
      "Found 11280 files belonging to 2 classes.\n",
      "Train dataset loaded!\n",
      "Labels in the dataset:  ['savory', 'unsavory']\n",
      "Loading validation dataset...\n",
      "Found 600 files belonging to 2 classes.\n",
      "Validation dataset loaded!\n",
      "Found 600 files belonging to 2 classes.\n"
     ]
    },
    {
     "data": {
      "text/plain": [
       "(353, 19)"
      ]
     },
     "execution_count": 3,
     "metadata": {},
     "output_type": "execute_result"
    }
   ],
   "source": [
    "# Load the training dataset\n",
    "print(\"Loading train dataset...\")\n",
    "train_dataset = image_dataset_from_directory(\n",
    "    directory=os.path.join(DATASET_PATH, \"train\"),\n",
    "    label_mode=\"categorical\",\n",
    "    validation_split=None,\n",
    "    image_size=(224, 224),\n",
    "    batch_size=None,\n",
    "    seed=SEED\n",
    "    )\n",
    "print(\"Train dataset loaded!\")\n",
    "print(\"Labels in the dataset: \", train_dataset.class_names)\n",
    "\n",
    "# Load the validation dataset\n",
    "print(\"Loading validation dataset...\")\n",
    "val_dataset = image_dataset_from_directory(\n",
    "    directory=os.path.join(DATASET_PATH, \"valid\"),\n",
    "    label_mode=\"categorical\",\n",
    "    validation_split=None,\n",
    "    image_size=(224, 224),\n",
    "    batch_size=None,\n",
    "    seed=SEED\n",
    "    )\n",
    "print(\"Validation dataset loaded!\")\n",
    "\n",
    "test_ds = image_dataset_from_directory(\n",
    "        directory=os.path.join(DATASET_PATH, \"test\"),\n",
    "        label_mode=\"categorical\",\n",
    "        validation_split=None,\n",
    "        image_size=(224, 224),\n",
    "        batch_size=None,\n",
    "        seed=SEED\n",
    "        )\n",
    "X_test, y_test = [], []\n",
    "for image, label in test_ds:\n",
    "    image /= 255.\n",
    "    X_test.append(image.numpy())\n",
    "    y_test.append(label.numpy())\n",
    "X_test = tf.convert_to_tensor(np.asarray(X_test, dtype='float32'))\n",
    "y_test = np.asarray(y_test, dtype='float32')\n",
    "test_dataset = tf.data.Dataset.from_tensor_slices((X_test, y_test))\n",
    "test_dataset = test_dataset.batch(BATCH_SIZE)\n",
    "\n",
    "train_ds = prepare_dataset(train_dataset, SEED, AUTOTUNE, BATCH_SIZE, augment=False)\n",
    "val_ds = prepare_dataset(val_dataset, SEED, AUTOTUNE, BATCH_SIZE)\n",
    "\n",
    "len(train_ds), len(val_ds)"
   ]
  },
  {
   "cell_type": "code",
   "execution_count": 4,
   "metadata": {},
   "outputs": [],
   "source": [
    "early_stopping = EarlyStopping(monitor=\"val_loss\", patience=12, min_delta=0.0001, restore_best_weights=True, verbose=1)\n",
    "lr_scheduler = ReduceLROnPlateau(monitor=\"val_loss\", factor=0.1, patience=5, verbose=1)\n",
    "callbacks = [early_stopping, lr_scheduler]"
   ]
  },
  {
   "cell_type": "code",
   "execution_count": 7,
   "metadata": {},
   "outputs": [
    {
     "name": "stdout",
     "output_type": "stream",
     "text": [
      "KDTree computed in: 1.1999999998124622e-06\n",
      "INFO:tensorflow:Reloading Oracle from existing project ../CNN_training/keras_tuner/tuned_model\\oracle.json\n",
      "INFO:tensorflow:Reloading Tuner from ../CNN_training/keras_tuner/tuned_model\\tuner0.json\n",
      "Epoch 1/50\n",
      "353/353 [==============================] - 41s 96ms/step - loss: 1.2073 - accuracy: 0.6189 - val_loss: 0.8247 - val_accuracy: 0.5033 - lr: 0.0010\n",
      "Epoch 2/50\n",
      "353/353 [==============================] - 24s 69ms/step - loss: 0.6340 - accuracy: 0.7134 - val_loss: 1.0831 - val_accuracy: 0.5600 - lr: 0.0010\n",
      "Epoch 3/50\n",
      "353/353 [==============================] - 24s 68ms/step - loss: 0.5540 - accuracy: 0.7644 - val_loss: 1.6523 - val_accuracy: 0.5217 - lr: 0.0010\n",
      "Epoch 4/50\n",
      "353/353 [==============================] - 24s 68ms/step - loss: 0.5328 - accuracy: 0.7738 - val_loss: 1.5925 - val_accuracy: 0.5233 - lr: 0.0010\n",
      "Epoch 5/50\n",
      "353/353 [==============================] - 24s 69ms/step - loss: 0.5240 - accuracy: 0.7796 - val_loss: 0.9566 - val_accuracy: 0.6050 - lr: 0.0010\n",
      "Epoch 6/50\n",
      "353/353 [==============================] - 25s 70ms/step - loss: 0.5157 - accuracy: 0.7828 - val_loss: 0.7659 - val_accuracy: 0.6600 - lr: 0.0010\n",
      "Epoch 7/50\n",
      "353/353 [==============================] - 25s 70ms/step - loss: 0.5052 - accuracy: 0.7956 - val_loss: 1.2352 - val_accuracy: 0.5517 - lr: 0.0010\n",
      "Epoch 8/50\n",
      "353/353 [==============================] - 25s 71ms/step - loss: 0.4999 - accuracy: 0.7978 - val_loss: 1.3297 - val_accuracy: 0.5233 - lr: 0.0010\n",
      "Epoch 9/50\n",
      "353/353 [==============================] - 26s 73ms/step - loss: 0.4941 - accuracy: 0.8071 - val_loss: 1.1266 - val_accuracy: 0.5550 - lr: 0.0010\n",
      "Epoch 10/50\n",
      "353/353 [==============================] - 26s 73ms/step - loss: 0.4858 - accuracy: 0.8098 - val_loss: 0.6314 - val_accuracy: 0.7183 - lr: 0.0010\n",
      "Epoch 11/50\n",
      "353/353 [==============================] - 26s 74ms/step - loss: 0.4763 - accuracy: 0.8153 - val_loss: 1.2635 - val_accuracy: 0.5367 - lr: 0.0010\n",
      "Epoch 12/50\n",
      "353/353 [==============================] - 26s 73ms/step - loss: 0.4670 - accuracy: 0.8217 - val_loss: 1.9030 - val_accuracy: 0.5033 - lr: 0.0010\n",
      "Epoch 13/50\n",
      "353/353 [==============================] - 26s 73ms/step - loss: 0.4591 - accuracy: 0.8278 - val_loss: 2.3312 - val_accuracy: 0.5000 - lr: 0.0010\n",
      "Epoch 14/50\n",
      "353/353 [==============================] - 26s 73ms/step - loss: 0.4544 - accuracy: 0.8303 - val_loss: 2.7736 - val_accuracy: 0.5000 - lr: 0.0010\n",
      "Epoch 15/50\n",
      "352/353 [============================>.] - ETA: 0s - loss: 0.4484 - accuracy: 0.8379\n",
      "Epoch 15: ReduceLROnPlateau reducing learning rate to 0.00010000000474974513.\n",
      "353/353 [==============================] - 26s 73ms/step - loss: 0.4483 - accuracy: 0.8379 - val_loss: 2.0305 - val_accuracy: 0.5033 - lr: 0.0010\n",
      "Epoch 16/50\n",
      "353/353 [==============================] - 26s 73ms/step - loss: 0.4083 - accuracy: 0.8555 - val_loss: 0.8983 - val_accuracy: 0.6417 - lr: 1.0000e-04\n",
      "Epoch 17/50\n",
      "353/353 [==============================] - 26s 73ms/step - loss: 0.3997 - accuracy: 0.8621 - val_loss: 0.8795 - val_accuracy: 0.6583 - lr: 1.0000e-04\n",
      "Epoch 18/50\n",
      "353/353 [==============================] - 26s 73ms/step - loss: 0.3996 - accuracy: 0.8624 - val_loss: 0.8327 - val_accuracy: 0.6750 - lr: 1.0000e-04\n",
      "Epoch 19/50\n",
      "353/353 [==============================] - 26s 74ms/step - loss: 0.3965 - accuracy: 0.8657 - val_loss: 1.1177 - val_accuracy: 0.6067 - lr: 1.0000e-04\n",
      "Epoch 20/50\n",
      "352/353 [============================>.] - ETA: 0s - loss: 0.3918 - accuracy: 0.8652\n",
      "Epoch 20: ReduceLROnPlateau reducing learning rate to 1.0000000474974514e-05.\n",
      "353/353 [==============================] - 26s 73ms/step - loss: 0.3919 - accuracy: 0.8652 - val_loss: 0.8417 - val_accuracy: 0.6717 - lr: 1.0000e-04\n",
      "Epoch 21/50\n",
      "353/353 [==============================] - 26s 73ms/step - loss: 0.3917 - accuracy: 0.8650 - val_loss: 0.5007 - val_accuracy: 0.7850 - lr: 1.0000e-05\n",
      "Epoch 22/50\n",
      "353/353 [==============================] - 26s 74ms/step - loss: 0.3878 - accuracy: 0.8665 - val_loss: 0.5383 - val_accuracy: 0.7633 - lr: 1.0000e-05\n",
      "Epoch 23/50\n",
      "353/353 [==============================] - 26s 73ms/step - loss: 0.3875 - accuracy: 0.8691 - val_loss: 0.5544 - val_accuracy: 0.7633 - lr: 1.0000e-05\n",
      "Epoch 24/50\n",
      "353/353 [==============================] - 26s 73ms/step - loss: 0.3882 - accuracy: 0.8678 - val_loss: 0.5553 - val_accuracy: 0.7617 - lr: 1.0000e-05\n",
      "Epoch 25/50\n",
      "353/353 [==============================] - 26s 73ms/step - loss: 0.3859 - accuracy: 0.8688 - val_loss: 0.5408 - val_accuracy: 0.7633 - lr: 1.0000e-05\n",
      "Epoch 26/50\n",
      "352/353 [============================>.] - ETA: 0s - loss: 0.3863 - accuracy: 0.8675\n",
      "Epoch 26: ReduceLROnPlateau reducing learning rate to 1.0000000656873453e-06.\n",
      "353/353 [==============================] - 26s 73ms/step - loss: 0.3863 - accuracy: 0.8676 - val_loss: 0.5543 - val_accuracy: 0.7617 - lr: 1.0000e-05\n",
      "Epoch 27/50\n",
      "353/353 [==============================] - 26s 73ms/step - loss: 0.3875 - accuracy: 0.8679 - val_loss: 0.4627 - val_accuracy: 0.8167 - lr: 1.0000e-06\n",
      "Epoch 28/50\n",
      "353/353 [==============================] - 26s 73ms/step - loss: 0.3868 - accuracy: 0.8660 - val_loss: 0.4653 - val_accuracy: 0.8150 - lr: 1.0000e-06\n",
      "Epoch 29/50\n",
      "353/353 [==============================] - 26s 74ms/step - loss: 0.3851 - accuracy: 0.8689 - val_loss: 0.4678 - val_accuracy: 0.8150 - lr: 1.0000e-06\n",
      "Epoch 30/50\n",
      "353/353 [==============================] - 26s 73ms/step - loss: 0.3849 - accuracy: 0.8661 - val_loss: 0.4685 - val_accuracy: 0.8150 - lr: 1.0000e-06\n",
      "Epoch 31/50\n",
      "353/353 [==============================] - 26s 73ms/step - loss: 0.3843 - accuracy: 0.8691 - val_loss: 0.4690 - val_accuracy: 0.8150 - lr: 1.0000e-06\n",
      "Epoch 32/50\n",
      "352/353 [============================>.] - ETA: 0s - loss: 0.3840 - accuracy: 0.8686\n",
      "Epoch 32: ReduceLROnPlateau reducing learning rate to 1.0000001111620805e-07.\n",
      "353/353 [==============================] - 26s 74ms/step - loss: 0.3841 - accuracy: 0.8686 - val_loss: 0.4692 - val_accuracy: 0.8150 - lr: 1.0000e-06\n",
      "Epoch 33/50\n",
      "353/353 [==============================] - 26s 73ms/step - loss: 0.3860 - accuracy: 0.8674 - val_loss: 0.4646 - val_accuracy: 0.8133 - lr: 1.0000e-07\n",
      "Epoch 34/50\n",
      "353/353 [==============================] - 26s 73ms/step - loss: 0.3838 - accuracy: 0.8684 - val_loss: 0.4645 - val_accuracy: 0.8133 - lr: 1.0000e-07\n",
      "Epoch 35/50\n",
      "353/353 [==============================] - 26s 73ms/step - loss: 0.3853 - accuracy: 0.8667 - val_loss: 0.4646 - val_accuracy: 0.8133 - lr: 1.0000e-07\n",
      "Epoch 36/50\n",
      "353/353 [==============================] - 26s 73ms/step - loss: 0.3837 - accuracy: 0.8689 - val_loss: 0.4647 - val_accuracy: 0.8133 - lr: 1.0000e-07\n",
      "Epoch 37/50\n",
      "352/353 [============================>.] - ETA: 0s - loss: 0.3853 - accuracy: 0.8689\n",
      "Epoch 37: ReduceLROnPlateau reducing learning rate to 1.000000082740371e-08.\n",
      "353/353 [==============================] - 28s 78ms/step - loss: 0.3853 - accuracy: 0.8688 - val_loss: 0.4647 - val_accuracy: 0.8133 - lr: 1.0000e-07\n",
      "Epoch 38/50\n",
      "353/353 [==============================] - 30s 85ms/step - loss: 0.3860 - accuracy: 0.8673 - val_loss: 0.4644 - val_accuracy: 0.8117 - lr: 1.0000e-08\n",
      "Epoch 39/50\n",
      "352/353 [============================>.] - ETA: 0s - loss: 0.3850 - accuracy: 0.8681Restoring model weights from the end of the best epoch: 27.\n",
      "353/353 [==============================] - 29s 84ms/step - loss: 0.3851 - accuracy: 0.8681 - val_loss: 0.4644 - val_accuracy: 0.8117 - lr: 1.0000e-08\n",
      "Epoch 39: early stopping\n"
     ]
    }
   ],
   "source": [
    "best_model_path = \"../CNN_training/keras_tuner/\"\n",
    "history = CNN(model_path).get_best_model(best_model_path).fit(train_ds, epochs=50, callbacks=callbacks, validation_data=val_ds)"
   ]
  },
  {
   "cell_type": "code",
   "execution_count": 8,
   "metadata": {},
   "outputs": [
    {
     "data": {
      "image/png": "[encoded data removed]",
      "text/plain": [
       "<Figure size 432x288 with 1 Axes>"
      ]
     },
     "metadata": {
      "needs_background": "light"
     },
     "output_type": "display_data"
    }
   ],
   "source": [
    "x_plot = list(range(1, len(history.history['val_accuracy']) + 1))\n",
    "plot_history(history, x_plot, name=\"_plot.png\")"
   ]
  },
  {
   "cell_type": "code",
   "execution_count": 11,
   "metadata": {},
   "outputs": [
    {
     "name": "stdout",
     "output_type": "stream",
     "text": [
      "19/19 [==============================] - 1s 39ms/step - loss: 0.3467 - accuracy: 0.8867\n",
      "Test Loss: 0.34666329622268677\n",
      "Test Accuracy: 0.8866666555404663\n"
     ]
    }
   ],
   "source": [
    "score = cnn.cnn.evaluate(test_dataset)\n",
    "print(f\"Test Loss: {score[0]}\")\n",
    "print(f\"Test Accuracy: {score[1]}\")"
   ]
  },
  {
   "cell_type": "code",
   "execution_count": 10,
   "metadata": {},
   "outputs": [
    {
     "name": "stdout",
     "output_type": "stream",
     "text": [
      "19/19 [==============================] - 1s 41ms/step\n",
      "              precision    recall  f1-score   support\n",
      "\n",
      "           0       0.90      0.87      0.88       300\n",
      "           1       0.87      0.90      0.89       300\n",
      "\n",
      "    accuracy                           0.89       600\n",
      "   macro avg       0.89      0.89      0.89       600\n",
      "weighted avg       0.89      0.89      0.89       600\n",
      "\n",
      "True Negatives:  261\n",
      "False Positives:  39\n",
      "False Negatives:  29\n",
      "True Positives:  271\n"
     ]
    }
   ],
   "source": [
    "predictions = cnn.cnn.predict(X_test)   \n",
    "predictions = np.argmax(predictions, axis=1)\n",
    "y_test = np.argmax(y_test, axis=1)\n",
    "plot_confusionMatrix(y_test, predictions, name=\"_cm.png\")"
   ]
  },
  {
   "cell_type": "code",
   "execution_count": 9,
   "metadata": {},
   "outputs": [
    {
     "name": "stderr",
     "output_type": "stream",
     "text": [
      "WARNING:absl:Found untraced functions such as _jit_compiled_convolution_op, _jit_compiled_convolution_op, _jit_compiled_convolution_op while saving (showing 3 of 3). These functions will not be directly callable after loading.\n"
     ]
    },
    {
     "name": "stdout",
     "output_type": "stream",
     "text": [
      "INFO:tensorflow:Assets written to: ./trained_cnn\\assets\n"
     ]
    },
    {
     "name": "stderr",
     "output_type": "stream",
     "text": [
      "INFO:tensorflow:Assets written to: ./trained_cnn\\assets\n"
     ]
    }
   ],
   "source": [
    "cnn.cnn.save(\"./trained_cnn\")"
   ]
  },
  {
   "cell_type": "markdown",
   "metadata": {},
   "source": [
    "## Extract features from train_dataset"
   ]
  },
  {
   "cell_type": "code",
   "execution_count": 4,
   "metadata": {},
   "outputs": [
    {
     "name": "stdout",
     "output_type": "stream",
     "text": [
      "Model: \"model_3\"\n",
      "_________________________________________________________________\n",
      " Layer (type)                Output Shape              Param #   \n",
      "=================================================================\n",
      " input_5 (InputLayer)        [(None, 224, 224, 3)]     0         \n",
      "                                                                 \n",
      " conv2d_14 (Conv2D)          (None, 222, 222, 32)      896       \n",
      "                                                                 \n",
      " max_pooling2d_8 (MaxPooling  (None, 44, 44, 32)       0         \n",
      " 2D)                                                             \n",
      "                                                                 \n",
      " conv2d_15 (Conv2D)          (None, 42, 42, 256)       73984     \n",
      "                                                                 \n",
      " max_pooling2d_9 (MaxPooling  (None, 21, 21, 256)      0         \n",
      " 2D)                                                             \n",
      "                                                                 \n",
      " conv2d_16 (Conv2D)          (None, 19, 19, 64)        147520    \n",
      "                                                                 \n",
      " max_pooling2d_10 (MaxPoolin  (None, 9, 9, 64)         0         \n",
      " g2D)                                                            \n",
      "                                                                 \n",
      "=================================================================\n",
      "Total params: 222,400\n",
      "Trainable params: 222,400\n",
      "Non-trainable params: 0\n",
      "_________________________________________________________________\n"
     ]
    }
   ],
   "source": [
    "cnn.feature_extractor.summary()"
   ]
  },
  {
   "cell_type": "code",
   "execution_count": 5,
   "metadata": {},
   "outputs": [
    {
     "name": "stderr",
     "output_type": "stream",
     "text": [
      "Extracting CNN features from image ..\\..\\..\\dataset\\train\\unsavory\\5610.jpg...: 100%|██████████| 11280/11280 [12:52<00:00, 14.59it/s]                    \n"
     ]
    }
   ],
   "source": [
    "path = \"../../../dataset/train/\"\n",
    "train_feat, labels, train_paths = cnn.extract_from_folder(path, \"jpg\", \"./cnn_withus_maxpool\")  "
   ]
  }
 ],
 "metadata": {
  "kernelspec": {
   "display_name": "Python 3.8.0 64-bit",
   "language": "python",
   "name": "python3"
  },
  "language_info": {
   "codemirror_mode": {
    "name": "ipython",
    "version": 3
   },
   "file_extension": ".py",
   "mimetype": "text/x-python",
   "name": "python",
   "nbconvert_exporter": "python",
   "pygments_lexer": "ipython3",
   "version": "3.8.0"
  },
  "orig_nbformat": 4,
  "vscode": {
   "interpreter": {
    "hash": "fb528fd416c0ff975b48fb7dd275c91a0873308d73117ccfdcc096d65948d1b4"
   }
  }
 },
 "nbformat": 4,
 "nbformat_minor": 2
}
