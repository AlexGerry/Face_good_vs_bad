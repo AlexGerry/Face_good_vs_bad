{
 "cells": [
  {
   "cell_type": "code",
   "execution_count": 1,
   "metadata": {},
   "outputs": [],
   "source": [
    "from CNN import CNN\n",
    "from keras.callbacks import EarlyStopping, ReduceLROnPlateau\n",
    "from keras.utils import set_random_seed, image_dataset_from_directory\n",
    "import os\n",
    "import tensorflow as tf\n",
    "from utils import prepare_dataset"
   ]
  },
  {
   "cell_type": "code",
   "execution_count": 2,
   "metadata": {},
   "outputs": [],
   "source": [
    "SEED = 42\n",
    "DATASET_PATH = \"../../../dataset/\"\n",
    "EPOCHS = 150\n",
    "BATCH_SIZE = 32\n",
    "AUTOTUNE = tf.data.AUTOTUNE\n",
    "INPUT_SHAPE = (224, 224, 3, )"
   ]
  },
  {
   "cell_type": "code",
   "execution_count": 3,
   "metadata": {},
   "outputs": [
    {
     "name": "stdout",
     "output_type": "stream",
     "text": [
      "INFO:tensorflow:Reloading Oracle from existing project ../CNN_training/keras_tuner/tuned_model\\oracle.json\n",
      "INFO:tensorflow:Reloading Tuner from ../CNN_training/keras_tuner/tuned_model\\tuner0.json\n",
      "Model: \"sequential_1\"\n",
      "_________________________________________________________________\n",
      " Layer (type)                Output Shape              Param #   \n",
      "=================================================================\n",
      " conv2d_14 (Conv2D)          (None, 222, 222, 32)      896       \n",
      "                                                                 \n",
      " max_pooling2d_8 (MaxPooling  (None, 44, 44, 32)       0         \n",
      " 2D)                                                             \n",
      "                                                                 \n",
      " conv2d_15 (Conv2D)          (None, 42, 42, 256)       73984     \n",
      "                                                                 \n",
      " max_pooling2d_9 (MaxPooling  (None, 21, 21, 256)      0         \n",
      " 2D)                                                             \n",
      "                                                                 \n",
      " conv2d_16 (Conv2D)          (None, 19, 19, 64)        147520    \n",
      "                                                                 \n",
      " max_pooling2d_10 (MaxPoolin  (None, 9, 9, 64)         0         \n",
      " g2D)                                                            \n",
      "                                                                 \n",
      " global_average_pooling2d_1   (None, 64)               0         \n",
      " (GlobalAveragePooling2D)                                        \n",
      "                                                                 \n",
      " batch_normalization_1 (Batc  (None, 64)               256       \n",
      " hNormalization)                                                 \n",
      "                                                                 \n",
      " dense_9 (Dense)             (None, 64)                4160      \n",
      "                                                                 \n",
      " dropout (Dropout)           (None, 64)                0         \n",
      "                                                                 \n",
      " dense_10 (Dense)            (None, 64)                4160      \n",
      "                                                                 \n",
      " dropout_1 (Dropout)         (None, 64)                0         \n",
      "                                                                 \n",
      " dense_11 (Dense)            (None, 2)                 130       \n",
      "                                                                 \n",
      "=================================================================\n",
      "Total params: 231,106\n",
      "Trainable params: 230,978\n",
      "Non-trainable params: 128\n",
      "_________________________________________________________________\n"
     ]
    }
   ],
   "source": [
    "model_path = \"../CNN_training/keras_tuner/\"\n",
    "cnn = CNN(model_path)\n",
    "cnn.cnn.summary()"
   ]
  },
  {
   "cell_type": "code",
   "execution_count": 4,
   "metadata": {},
   "outputs": [
    {
     "name": "stdout",
     "output_type": "stream",
     "text": [
      "Loading train dataset...\n",
      "Found 11280 files belonging to 2 classes.\n",
      "Train dataset loaded!\n",
      "Labels in the dataset:  ['savory', 'unsavory']\n",
      "Loading validation dataset...\n",
      "Found 600 files belonging to 2 classes.\n",
      "Validation dataset loaded!\n"
     ]
    },
    {
     "data": {
      "text/plain": [
       "(353, 19)"
      ]
     },
     "execution_count": 4,
     "metadata": {},
     "output_type": "execute_result"
    }
   ],
   "source": [
    "# Load the training dataset\n",
    "print(\"Loading train dataset...\")\n",
    "train_dataset = image_dataset_from_directory(\n",
    "    directory=os.path.join(DATASET_PATH, \"train\"),\n",
    "    label_mode=\"categorical\",\n",
    "    validation_split=None,\n",
    "    image_size=(224, 224),\n",
    "    batch_size=None,\n",
    "    seed=SEED\n",
    "    )\n",
    "print(\"Train dataset loaded!\")\n",
    "print(\"Labels in the dataset: \", train_dataset.class_names)\n",
    "\n",
    "# Load the validation dataset\n",
    "print(\"Loading validation dataset...\")\n",
    "val_dataset = image_dataset_from_directory(\n",
    "    directory=os.path.join(DATASET_PATH, \"valid\"),\n",
    "    label_mode=\"categorical\",\n",
    "    validation_split=None,\n",
    "    image_size=(224, 224),\n",
    "    batch_size=None,\n",
    "    seed=SEED\n",
    "    )\n",
    "print(\"Validation dataset loaded!\")\n",
    "\n",
    "train_ds = prepare_dataset(train_dataset, SEED, AUTOTUNE, BATCH_SIZE, augment=False)\n",
    "val_ds = prepare_dataset(val_dataset, SEED, AUTOTUNE, BATCH_SIZE)\n",
    "\n",
    "len(train_ds), len(val_ds)"
   ]
  },
  {
   "cell_type": "code",
   "execution_count": 5,
   "metadata": {},
   "outputs": [],
   "source": [
    "early_stopping = EarlyStopping(monitor=\"val_loss\", patience=12, min_delta=0.0001, restore_best_weights=True, verbose=1)\n",
    "lr_scheduler = ReduceLROnPlateau(monitor=\"val_loss\", factor=0.1, patience=5, verbose=1)\n",
    "callbacks = [early_stopping, lr_scheduler]"
   ]
  },
  {
   "cell_type": "code",
   "execution_count": 6,
   "metadata": {},
   "outputs": [
    {
     "name": "stdout",
     "output_type": "stream",
     "text": [
      "Epoch 1/50\n",
      "353/353 [==============================] - 13s 21ms/step - loss: 1.2208 - accuracy: 0.6100 - val_loss: 0.7522 - val_accuracy: 0.5967 - lr: 0.0010\n",
      "Epoch 2/50\n",
      "353/353 [==============================] - 5s 14ms/step - loss: 0.6712 - accuracy: 0.6680 - val_loss: 2.9056 - val_accuracy: 0.5000 - lr: 0.0010\n",
      "Epoch 3/50\n",
      "353/353 [==============================] - 5s 14ms/step - loss: 0.6094 - accuracy: 0.7168 - val_loss: 1.3882 - val_accuracy: 0.5133 - lr: 0.0010\n",
      "Epoch 4/50\n",
      "353/353 [==============================] - 5s 14ms/step - loss: 0.5611 - accuracy: 0.7588 - val_loss: 1.8256 - val_accuracy: 0.5033 - lr: 0.0010\n",
      "Epoch 5/50\n",
      "353/353 [==============================] - 5s 14ms/step - loss: 0.5319 - accuracy: 0.7831 - val_loss: 0.9357 - val_accuracy: 0.5983 - lr: 0.0010\n",
      "Epoch 6/50\n",
      "349/353 [============================>.] - ETA: 0s - loss: 0.5203 - accuracy: 0.7924\n",
      "Epoch 6: ReduceLROnPlateau reducing learning rate to 0.00010000000474974513.\n",
      "353/353 [==============================] - 5s 14ms/step - loss: 0.5203 - accuracy: 0.7925 - val_loss: 1.0539 - val_accuracy: 0.6067 - lr: 0.0010\n",
      "Epoch 7/50\n",
      "353/353 [==============================] - 5s 14ms/step - loss: 0.4599 - accuracy: 0.8309 - val_loss: 0.9504 - val_accuracy: 0.6250 - lr: 1.0000e-04\n",
      "Epoch 8/50\n",
      "353/353 [==============================] - 5s 14ms/step - loss: 0.4449 - accuracy: 0.8347 - val_loss: 0.9801 - val_accuracy: 0.6250 - lr: 1.0000e-04\n",
      "Epoch 9/50\n",
      "353/353 [==============================] - 5s 14ms/step - loss: 0.4375 - accuracy: 0.8397 - val_loss: 0.8841 - val_accuracy: 0.6450 - lr: 1.0000e-04\n",
      "Epoch 10/50\n",
      "353/353 [==============================] - 5s 14ms/step - loss: 0.4310 - accuracy: 0.8468 - val_loss: 1.1444 - val_accuracy: 0.5767 - lr: 1.0000e-04\n",
      "Epoch 11/50\n",
      "349/353 [============================>.] - ETA: 0s - loss: 0.4271 - accuracy: 0.8482\n",
      "Epoch 11: ReduceLROnPlateau reducing learning rate to 1.0000000474974514e-05.\n",
      "353/353 [==============================] - 5s 14ms/step - loss: 0.4274 - accuracy: 0.8478 - val_loss: 0.8861 - val_accuracy: 0.6483 - lr: 1.0000e-04\n",
      "Epoch 12/50\n",
      "353/353 [==============================] - 5s 14ms/step - loss: 0.4209 - accuracy: 0.8491 - val_loss: 0.5552 - val_accuracy: 0.7500 - lr: 1.0000e-05\n",
      "Epoch 13/50\n",
      "353/353 [==============================] - 5s 14ms/step - loss: 0.4174 - accuracy: 0.8515 - val_loss: 0.5806 - val_accuracy: 0.7350 - lr: 1.0000e-05\n",
      "Epoch 14/50\n",
      "353/353 [==============================] - 5s 14ms/step - loss: 0.4189 - accuracy: 0.8515 - val_loss: 0.5554 - val_accuracy: 0.7417 - lr: 1.0000e-05\n",
      "Epoch 15/50\n",
      "353/353 [==============================] - 5s 14ms/step - loss: 0.4178 - accuracy: 0.8522 - val_loss: 0.5786 - val_accuracy: 0.7350 - lr: 1.0000e-05\n",
      "Epoch 16/50\n",
      "353/353 [==============================] - 5s 14ms/step - loss: 0.4161 - accuracy: 0.8514 - val_loss: 0.5562 - val_accuracy: 0.7400 - lr: 1.0000e-05\n",
      "Epoch 17/50\n",
      "353/353 [==============================] - 5s 14ms/step - loss: 0.4142 - accuracy: 0.8551 - val_loss: 0.5521 - val_accuracy: 0.7450 - lr: 1.0000e-05\n",
      "Epoch 18/50\n",
      "353/353 [==============================] - 5s 14ms/step - loss: 0.4148 - accuracy: 0.8543 - val_loss: 0.5533 - val_accuracy: 0.7417 - lr: 1.0000e-05\n",
      "Epoch 19/50\n",
      "353/353 [==============================] - 5s 14ms/step - loss: 0.4165 - accuracy: 0.8534 - val_loss: 0.5500 - val_accuracy: 0.7450 - lr: 1.0000e-05\n",
      "Epoch 20/50\n",
      "353/353 [==============================] - 5s 14ms/step - loss: 0.4144 - accuracy: 0.8541 - val_loss: 0.5630 - val_accuracy: 0.7367 - lr: 1.0000e-05\n",
      "Epoch 21/50\n",
      "353/353 [==============================] - 5s 14ms/step - loss: 0.4138 - accuracy: 0.8547 - val_loss: 0.5656 - val_accuracy: 0.7367 - lr: 1.0000e-05\n",
      "Epoch 22/50\n",
      "353/353 [==============================] - 5s 14ms/step - loss: 0.4126 - accuracy: 0.8547 - val_loss: 0.5506 - val_accuracy: 0.7433 - lr: 1.0000e-05\n",
      "Epoch 23/50\n",
      "353/353 [==============================] - 5s 14ms/step - loss: 0.4156 - accuracy: 0.8536 - val_loss: 0.5771 - val_accuracy: 0.7300 - lr: 1.0000e-05\n",
      "Epoch 24/50\n",
      "349/353 [============================>.] - ETA: 0s - loss: 0.4152 - accuracy: 0.8525\n",
      "Epoch 24: ReduceLROnPlateau reducing learning rate to 1.0000000656873453e-06.\n",
      "353/353 [==============================] - 5s 14ms/step - loss: 0.4153 - accuracy: 0.8522 - val_loss: 0.5932 - val_accuracy: 0.7233 - lr: 1.0000e-05\n",
      "Epoch 25/50\n",
      "353/353 [==============================] - 5s 14ms/step - loss: 0.4092 - accuracy: 0.8570 - val_loss: 0.4840 - val_accuracy: 0.8067 - lr: 1.0000e-06\n",
      "Epoch 26/50\n",
      "353/353 [==============================] - 5s 14ms/step - loss: 0.4116 - accuracy: 0.8551 - val_loss: 0.4903 - val_accuracy: 0.8033 - lr: 1.0000e-06\n",
      "Epoch 27/50\n",
      "353/353 [==============================] - 5s 14ms/step - loss: 0.4106 - accuracy: 0.8564 - val_loss: 0.4907 - val_accuracy: 0.8000 - lr: 1.0000e-06\n",
      "Epoch 28/50\n",
      "353/353 [==============================] - 5s 14ms/step - loss: 0.4123 - accuracy: 0.8560 - val_loss: 0.4904 - val_accuracy: 0.8000 - lr: 1.0000e-06\n",
      "Epoch 29/50\n",
      "353/353 [==============================] - 5s 14ms/step - loss: 0.4105 - accuracy: 0.8545 - val_loss: 0.4911 - val_accuracy: 0.7983 - lr: 1.0000e-06\n",
      "Epoch 30/50\n",
      "349/353 [============================>.] - ETA: 0s - loss: 0.4106 - accuracy: 0.8566\n",
      "Epoch 30: ReduceLROnPlateau reducing learning rate to 1.0000001111620805e-07.\n",
      "353/353 [==============================] - 5s 14ms/step - loss: 0.4108 - accuracy: 0.8561 - val_loss: 0.4918 - val_accuracy: 0.7967 - lr: 1.0000e-06\n",
      "Epoch 31/50\n",
      "353/353 [==============================] - 5s 14ms/step - loss: 0.4115 - accuracy: 0.8552 - val_loss: 0.4865 - val_accuracy: 0.8050 - lr: 1.0000e-07\n",
      "Epoch 32/50\n",
      "353/353 [==============================] - 5s 14ms/step - loss: 0.4109 - accuracy: 0.8552 - val_loss: 0.4865 - val_accuracy: 0.8050 - lr: 1.0000e-07\n",
      "Epoch 33/50\n",
      "353/353 [==============================] - 5s 14ms/step - loss: 0.4128 - accuracy: 0.8553 - val_loss: 0.4865 - val_accuracy: 0.8050 - lr: 1.0000e-07\n",
      "Epoch 34/50\n",
      "353/353 [==============================] - 5s 14ms/step - loss: 0.4106 - accuracy: 0.8556 - val_loss: 0.4868 - val_accuracy: 0.8050 - lr: 1.0000e-07\n",
      "Epoch 35/50\n",
      "353/353 [==============================] - ETA: 0s - loss: 0.4114 - accuracy: 0.8579\n",
      "Epoch 35: ReduceLROnPlateau reducing learning rate to 1.000000082740371e-08.\n",
      "353/353 [==============================] - 5s 14ms/step - loss: 0.4114 - accuracy: 0.8579 - val_loss: 0.4868 - val_accuracy: 0.8050 - lr: 1.0000e-07\n",
      "Epoch 36/50\n",
      "353/353 [==============================] - 5s 14ms/step - loss: 0.4123 - accuracy: 0.8517 - val_loss: 0.4862 - val_accuracy: 0.8033 - lr: 1.0000e-08\n",
      "Epoch 37/50\n",
      "349/353 [============================>.] - ETA: 0s - loss: 0.4088 - accuracy: 0.8557Restoring model weights from the end of the best epoch: 25.\n",
      "353/353 [==============================] - 5s 14ms/step - loss: 0.4090 - accuracy: 0.8555 - val_loss: 0.4862 - val_accuracy: 0.8033 - lr: 1.0000e-08\n",
      "Epoch 37: early stopping\n"
     ]
    },
    {
     "data": {
      "text/plain": [
       "<keras.callbacks.History at 0x2dc8818f880>"
      ]
     },
     "execution_count": 6,
     "metadata": {},
     "output_type": "execute_result"
    }
   ],
   "source": [
    "cnn.cnn.fit(train_ds, epochs=50, callbacks=callbacks, validation_data=val_ds)"
   ]
  },
  {
   "cell_type": "code",
   "execution_count": 7,
   "metadata": {},
   "outputs": [
    {
     "name": "stderr",
     "output_type": "stream",
     "text": [
      "WARNING:absl:Found untraced functions such as _jit_compiled_convolution_op, _jit_compiled_convolution_op, _jit_compiled_convolution_op while saving (showing 3 of 3). These functions will not be directly callable after loading.\n"
     ]
    },
    {
     "name": "stdout",
     "output_type": "stream",
     "text": [
      "INFO:tensorflow:Assets written to: ./trained_cnn\\assets\n"
     ]
    },
    {
     "name": "stderr",
     "output_type": "stream",
     "text": [
      "INFO:tensorflow:Assets written to: ./trained_cnn\\assets\n"
     ]
    }
   ],
   "source": [
    "cnn.cnn.save(\"./trained_cnn\")"
   ]
  }
 ],
 "metadata": {
  "kernelspec": {
   "display_name": "Python 3.8.10 64-bit",
   "language": "python",
   "name": "python3"
  },
  "language_info": {
   "codemirror_mode": {
    "name": "ipython",
    "version": 3
   },
   "file_extension": ".py",
   "mimetype": "text/x-python",
   "name": "python",
   "nbconvert_exporter": "python",
   "pygments_lexer": "ipython3",
   "version": "3.8.10"
  },
  "orig_nbformat": 4,
  "vscode": {
   "interpreter": {
    "hash": "77d2863d73a71357c1b21020a724e0f97bba5dba955c696759ed2a19762b4d0d"
   }
  }
 },
 "nbformat": 4,
 "nbformat_minor": 2
}
