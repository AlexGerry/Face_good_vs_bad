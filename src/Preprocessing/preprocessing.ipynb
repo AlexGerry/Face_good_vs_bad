{
 "cells": [
  {
   "cell_type": "code",
   "execution_count": 1,
   "metadata": {},
   "outputs": [],
   "source": [
    "import matplotlib.pyplot as plt\n",
    "import skimage\n",
    "from skimage.io import imread\n",
    "import numpy as np\n",
    "from pathlib import Path"
   ]
  },
  {
   "cell_type": "code",
   "execution_count": 2,
   "metadata": {},
   "outputs": [],
   "source": [
    "def image_combination(over, under):\n",
    "    over = over/255\n",
    "    under = under/255\n",
    "    over = skimage.color.rgb2ycbcr(over)\n",
    "    under = skimage.color.rgb2ycbcr(under)\n",
    "    #overexposed\n",
    "    Yfilt = skimage.restoration.denoise_bilateral(over[:,:,0], sigma_spatial=3)\n",
    "    Yover = over[:,:,0] - Yfilt\n",
    "    #underexposed\n",
    "    Yunder = skimage.restoration.denoise_bilateral(under[:,:,0], sigma_spatial=3)\n",
    "    #combine\n",
    "    x = len(over[:,1])\n",
    "    y = len(over[1,:])\n",
    "    final = np.empty((x,y,3))\n",
    "    final[:,:,0] = Yover + Yunder\n",
    "    final[:,:,1] = over[:,:,1]\n",
    "    final[:,:,2] = over[:,:,2]\n",
    "    final_image = skimage.color.ycbcr2rgb(final)\n",
    "    return final_image"
   ]
  },
  {
   "cell_type": "code",
   "execution_count": 3,
   "metadata": {},
   "outputs": [],
   "source": [
    "def local_gamma(im):\n",
    "    im =im/255\n",
    "    ycbcr = skimage.color.rgb2ycbcr(im)\n",
    "    y = ycbcr[:,:,0]\n",
    "    y_filt = skimage.restoration.denoise_bilateral(y, sigma_spatial=5)\n",
    "    mask = 255-y_filt\n",
    "    row = np.size(y[:,1])\n",
    "    col = np.size(y[1,:])\n",
    "    Y_final = np.empty((row, col))\n",
    "    for i in range(row):\n",
    "        for j in range(col):\n",
    "            exp2 = (128-mask[i,j])/128\n",
    "            exp = 2**exp2\n",
    "            value=(y[i,j]/255)**exp\n",
    "            output=255*value\n",
    "            Y_final[i,j]= output\n",
    "    ycbcr[:,:,0] = Y_final\n",
    "    final = skimage.color.ycbcr2rgb(ycbcr)\n",
    "    return final"
   ]
  },
  {
   "cell_type": "code",
   "execution_count": 4,
   "metadata": {},
   "outputs": [],
   "source": [
    "from mtcnn.mtcnn import MTCNN\n",
    "detector = MTCNN()\n"
   ]
  },
  {
   "cell_type": "code",
   "execution_count": 53,
   "metadata": {},
   "outputs": [
    {
     "name": "stderr",
     "output_type": "stream",
     "text": [
      "100%|██████████| 11220/11220 [00:20<00:00, 536.28it/s] \n"
     ]
    }
   ],
   "source": [
    "from tqdm import tqdm\n",
    "path = \"../../../dataset/train/\"\n",
    "\n",
    "train_images_path = list(Path(path).rglob(f\"*.jpg\"))\n",
    "values = []\n",
    "for path in tqdm(train_images_path):\n",
    "    im = imread(path)\n",
    "    v = np.sum(im<128) / np.sum(im>128)\n",
    "    values += [v]\n",
    "values.sort()"
   ]
  },
  {
   "cell_type": "code",
   "execution_count": 56,
   "metadata": {},
   "outputs": [
    {
     "name": "stdout",
     "output_type": "stream",
     "text": [
      "288\n",
      "127\n"
     ]
    }
   ],
   "source": [
    "v = np.array(values)\n",
    "print(np.sum(v>4))\n",
    "print(np.sum(v<0.2))"
   ]
  },
  {
   "cell_type": "code",
   "execution_count": 149,
   "metadata": {},
   "outputs": [],
   "source": [
    "def fix_image(im, count):\n",
    "    faces = detector.detect_faces(im)\n",
    "    if len(faces) == 0:\n",
    "        value = np.sum(im<128) / np.sum(im>128)\n",
    "        if value > 4 or value == \"inf\" and count <= 1:\n",
    "            im = skimage.exposure.adjust_gamma(im, 0.5)\n",
    "            c = count +1\n",
    "            crop = fix_image(im, c)\n",
    "            return crop\n",
    "        elif value < 0.2 and count <= 1:\n",
    "            im = skimage.exposure.adjust_gamma(im, 1.5)\n",
    "            c = count +1\n",
    "            crop = fix_image(im, c)\n",
    "            return crop\n",
    "        else:\n",
    "            print(\"no faces\")\n",
    "            return None\n",
    "    [X,Y,W,H] = faces[0]['box']\n",
    "    crop = im[Y-10:Y+H+10, X-10:X+W+10]\n",
    "    #crop = fix_zeros(crop)\n",
    "    faces2 = detector.detect_faces(crop)\n",
    "    if len(faces2) == 0:\n",
    "        print(\"no faces\")\n",
    "        return None\n",
    "    b=True\n",
    "    while b:\n",
    "        value = np.sum(crop<128) / np.sum(crop>128)\n",
    "        print(value)\n",
    "        if value > 5 or value == \"inf\":\n",
    "            crop = skimage.exposure.adjust_gamma(crop, 0.5)\n",
    "        elif value < 0.1:\n",
    "            crop = skimage.exposure.adjust_gamma(crop, 1.5)\n",
    "        else:\n",
    "            b=False\n",
    "    return crop"
   ]
  },
  {
   "cell_type": "code",
   "execution_count": 148,
   "metadata": {},
   "outputs": [
    {
     "name": "stdout",
     "output_type": "stream",
     "text": [
      "1/1 [==============================] - 0s 76ms/step\n",
      "1/1 [==============================] - 0s 16ms/step\n",
      "1/1 [==============================] - 0s 12ms/step\n",
      "1/1 [==============================] - 0s 12ms/step\n",
      "1/1 [==============================] - 0s 12ms/step\n",
      "1/1 [==============================] - 0s 11ms/step\n",
      "1/1 [==============================] - 0s 11ms/step\n",
      "1/1 [==============================] - 0s 14ms/step\n",
      "1/1 [==============================] - 0s 11ms/step\n",
      "1/1 [==============================] - 0s 11ms/step\n",
      "1/1 [==============================] - 0s 11ms/step\n",
      "6/6 [==============================] - 0s 2ms/step\n",
      "1/1 [==============================] - 0s 12ms/step\n",
      "no faces\n"
     ]
    }
   ],
   "source": [
    "path = \"./imgs/underexposed.jpg\"\n",
    "final = fix_image(imread(path),0)\n",
    "if final is not None:\n",
    "    plt.figure(figsize=(10,10))\n",
    "    plt.subplot(1,2,1)\n",
    "    plt.imshow(imread(path))\n",
    "    plt.subplot(1,2,2)\n",
    "    plt.imshow(final)\n"
   ]
  }
 ],
 "metadata": {
  "kernelspec": {
   "display_name": "Python 3.8.10 64-bit",
   "language": "python",
   "name": "python3"
  },
  "language_info": {
   "codemirror_mode": {
    "name": "ipython",
    "version": 3
   },
   "file_extension": ".py",
   "mimetype": "text/x-python",
   "name": "python",
   "nbconvert_exporter": "python",
   "pygments_lexer": "ipython3",
   "version": "3.8.10"
  },
  "orig_nbformat": 4,
  "vscode": {
   "interpreter": {
    "hash": "77d2863d73a71357c1b21020a724e0f97bba5dba955c696759ed2a19762b4d0d"
   }
  }
 },
 "nbformat": 4,
 "nbformat_minor": 2
}
